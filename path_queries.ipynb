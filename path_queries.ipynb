{
 "cells": [
  {
   "cell_type": "code",
   "execution_count": 1,
   "metadata": {},
   "outputs": [],
   "source": [
    "from neo4j import GraphDatabase\n",
    "\n",
    "URI = \"bolt://localhost:7687\"\n",
    "AUTH = ('neo4j', 'neo4j1234')"
   ]
  },
  {
   "cell_type": "code",
   "execution_count": 71,
   "metadata": {},
   "outputs": [],
   "source": [
    "def findATrip(srcCity, dstCity):\n",
    "    with GraphDatabase.driver(URI, auth=AUTH) as driver:\n",
    "        driver.verify_connectivity()\n",
    "        query = 'match p=(s:Airport)-->*(d: Airport) where s.city = $src and d.city = $dst return relationships(p), nodes(p) limit 1'\n",
    "        records, _, _ = driver.execute_query(query, src=srcCity, dst=dstCity)\n",
    "        driver.close()\n",
    "        \n",
    "    #Extract\n",
    "    trips = []\n",
    "    for record in records:\n",
    "        routes = record.get('relationships(p)')\n",
    "        nodes = record.get('nodes(p)')\n",
    "        \n",
    "        path = []\n",
    "        for i in range(len(routes)):\n",
    "            src, dst, route = nodes[i], nodes[i + 1], routes[i]\n",
    "            airline = route.get(\"airline_name\")\n",
    "            dept = src.get(\"IATA\") + \", \" + src.get(\"city\")\n",
    "            dest = dst.get(\"IATA\") + \", \" + dst.get(\"city\")\n",
    "            path.append(f\"{airline} airline: {dept}  to  {dest}\")\n",
    "        \n",
    "        trips.append(path)\n",
    "    \n",
    "    for t in trips:\n",
    "        print('Trip: ', t)\n",
    "    return trips\n"
   ]
  },
  {
   "cell_type": "code",
   "execution_count": 72,
   "metadata": {},
   "outputs": [
    {
     "name": "stdout",
     "output_type": "stream",
     "text": [
      "Trip:  ['WN airline: SEA, Seattle  to  LAS, Las Vegas']\n"
     ]
    },
    {
     "data": {
      "text/plain": [
       "[['WN airline: SEA, Seattle  to  LAS, Las Vegas']]"
      ]
     },
     "execution_count": 72,
     "metadata": {},
     "output_type": "execute_result"
    }
   ],
   "source": [
    "findATrip(\"Seattle\", \"Las Vegas\")"
   ]
  },
  {
   "cell_type": "code",
   "execution_count": 78,
   "metadata": {},
   "outputs": [],
   "source": [
    "def findATripWithDHops(srcCity, dstCity, dHops):\n",
    "    with GraphDatabase.driver(URI, auth=AUTH) as driver:\n",
    "        driver.verify_connectivity()\n",
    "        query = \"match p=(s:Airport)-->{1,\" + str(dHops) + \"}(d: Airport) where s.city = $src and d.city = $dst return relationships(p), nodes(p) limit 1\"\n",
    "        records, _, _ = driver.execute_query(query, src=srcCity, dst=dstCity)\n",
    "        driver.close()\n",
    "        \n",
    "    #Extract\n",
    "    trips = []\n",
    "    for record in records:\n",
    "        routes = record.get('relationships(p)')\n",
    "        nodes = record.get('nodes(p)')\n",
    "        \n",
    "        path = []\n",
    "        for i in range(len(routes)):\n",
    "            src, dst, route = nodes[i], nodes[i + 1], routes[i]\n",
    "            airline = route.get(\"airline_name\")\n",
    "            dept = src.get(\"IATA\") + \", \" + src.get(\"city\")\n",
    "            dest = dst.get(\"IATA\") + \", \" + dst.get(\"city\")\n",
    "            path.append(f\"{airline} airline: {dept}  to  {dest}\")\n",
    "        \n",
    "        trips.append(path)\n",
    "    \n",
    "    for t in trips:\n",
    "        print('Trip: ', t)\n",
    "    return trips\n"
   ]
  },
  {
   "cell_type": "code",
   "execution_count": 79,
   "metadata": {},
   "outputs": [
    {
     "name": "stdout",
     "output_type": "stream",
     "text": [
      "Trip:  ['WN airline: SEA, Seattle  to  LAS, Las Vegas']\n"
     ]
    },
    {
     "data": {
      "text/plain": [
       "[['WN airline: SEA, Seattle  to  LAS, Las Vegas']]"
      ]
     },
     "execution_count": 79,
     "metadata": {},
     "output_type": "execute_result"
    }
   ],
   "source": [
    "findATripWithDHops(\"Seattle\", \"Las Vegas\", 10)"
   ]
  },
  {
   "cell_type": "code",
   "execution_count": 98,
   "metadata": {},
   "outputs": [],
   "source": [
    "def findCitiesWithDHops(srcCity, dHops):\n",
    "    with GraphDatabase.driver(URI, auth=AUTH) as driver:\n",
    "        driver.verify_connectivity()\n",
    "        query = \"match p=(s:Airport)-->{1,\" + str(dHops) + \"}(dst: Airport) where s.city = $src return distinct dst.city order by dst.city\"\n",
    "        records, _, _ = driver.execute_query(query, src=srcCity)\n",
    "        cities = list(map(lambda r: r.get('dst.city'), records))\n",
    "        driver.close()\n",
    "    \n",
    "    print(f\"{len(cities)} cities found: \")\n",
    "    print(cities)\n",
    "    return cities"
   ]
  },
  {
   "cell_type": "code",
   "execution_count": null,
   "metadata": {},
   "outputs": [],
   "source": [
    "findCitiesWithDHops(\"Seattle\", 2)"
   ]
  },
  {
   "cell_type": "code",
   "execution_count": 120,
   "metadata": {},
   "outputs": [],
   "source": [
    "def findAdjacentAirportNodesOfCity(city):\n",
    "    with GraphDatabase.driver(URI, auth=AUTH) as driver:\n",
    "        driver.verify_connectivity()\n",
    "        query = 'match (s:Airport)-->(d: Airport) where s.city = $city return d'\n",
    "        records, _, _ = driver.execute_query(query, city = city)\n",
    "        driver.close()\n",
    "    return list(map(lambda r: r.get('d'), records))\n",
    "        "
   ]
  },
  {
   "cell_type": "code",
   "execution_count": 121,
   "metadata": {},
   "outputs": [],
   "source": [
    "def findAdjacentAirportNodes(airportNode):\n",
    "    with GraphDatabase.driver(URI, auth=AUTH) as driver:\n",
    "        driver.verify_connectivity()\n",
    "        query = 'match (s:Airport)-->(d: Airport) where s.airport_id = $airport_id return d'\n",
    "        records, _, _ = driver.execute_query(query, airport_id = airportNode.get(\"airport_id\"))\n",
    "        driver.close()\n",
    "    return list(map(lambda r: r.get('d'), records))\n",
    "        "
   ]
  },
  {
   "cell_type": "code",
   "execution_count": 184,
   "metadata": {},
   "outputs": [],
   "source": [
    "def findAirportNodeOfCity(city, airportNode):\n",
    "    with GraphDatabase.driver(URI, auth=AUTH) as driver:\n",
    "        driver.verify_connectivity()\n",
    "        query = 'match p=(s:Airport)-->(d: Airport) where s.city = $city and d.airport_id = $airport_id return s'\n",
    "        records, _, _ = driver.execute_query(query, city = city, airport_id = airportNode.get(\"airport_id\"))\n",
    "        driver.close()\n",
    "    return records[0].get('s')\n",
    "        "
   ]
  },
  {
   "cell_type": "code",
   "execution_count": 189,
   "metadata": {},
   "outputs": [],
   "source": [
    "def findRouteBetweenAirports(src, dst):\n",
    "    with GraphDatabase.driver(URI, auth=AUTH) as driver:\n",
    "        driver.verify_connectivity()\n",
    "        query = 'match p=(s:Airport)-->(d: Airport) where s.airport_id = $src and d.airport_id = $dst return relationships(p)'\n",
    "        records, _, _ = driver.execute_query(query, src = src.get(\"airport_id\"), dst = dst.get(\"airport_id\"))\n",
    "        driver.close()\n",
    "    return records[0].get('relationships(p)')[0]\n",
    "        "
   ]
  },
  {
   "cell_type": "code",
   "execution_count": 190,
   "metadata": {},
   "outputs": [],
   "source": [
    "def bfs(src, dst):\n",
    "    queue = findAdjacentAirportNodesOfCity(src)\n",
    "    firstChecks = [d for d in queue if d.get(\"city\") == dst]\n",
    "    if len(firstChecks) > 0:\n",
    "        lastNode = {\"cur\": firstChecks[0], \"prev\": None}\n",
    "    else:\n",
    "        queue = list(map(lambda airport: {\"cur\": airport, \"prev\": None}, queue))\n",
    "        visited = set()\n",
    "        \n",
    "        lastNode = None\n",
    "        while len(queue) > 0:\n",
    "            top = queue.pop(0)\n",
    "            curNode = top.get(\"cur\")\n",
    "            if curNode.get(\"airport_id\") not in visited:\n",
    "                if curNode.get(\"city\") == dst:\n",
    "                    lastNode = top\n",
    "                    break\n",
    "                \n",
    "                visited.add(curNode.get(\"airport_id\"))\n",
    "                for adj in findAdjacentAirportNodes(curNode):\n",
    "                    if curNode.get(\"city\") == src:\n",
    "                        continue\n",
    "                    if adj.get(\"airport_id\") not in visited:\n",
    "                        queue.append({\"cur\": adj, \"prev\": top})\n",
    "        \n",
    "    nodes = []\n",
    "    while lastNode is not None:\n",
    "        nodes.insert(0, lastNode.get(\"cur\"))\n",
    "        lastNode = lastNode.get(\"prev\")\n",
    "    \n",
    "    if len(nodes) > 0:\n",
    "        nodes.insert(0, findAirportNodeOfCity(src, nodes[0]))\n",
    "    # print(nodes)\n",
    "    \n",
    "    path = []\n",
    "    for i in range(len(nodes) - 1):\n",
    "        src, dst = nodes[i], nodes[i + 1]\n",
    "        route = findRouteBetweenAirports(src, dst)\n",
    "        airline = route.get(\"airline_name\")\n",
    "        dept = src.get(\"IATA\") + \", \" + src.get(\"city\")\n",
    "        dest = dst.get(\"IATA\") + \", \" + dst.get(\"city\")\n",
    "        path.append(f\"{airline} airline: {dept}  to  {dest}\")\n",
    "    return path\n",
    "                    "
   ]
  },
  {
   "cell_type": "code",
   "execution_count": 196,
   "metadata": {},
   "outputs": [],
   "source": [
    "src = \"Seattle\"\n",
    "dst = \"Masset\"    # Cranbrook"
   ]
  },
  {
   "cell_type": "code",
   "execution_count": 197,
   "metadata": {},
   "outputs": [
    {
     "name": "stdout",
     "output_type": "stream",
     "text": [
      "[<Node element_id='4:4daaf3ee-a640-4fe0-865d-8fe2f4f5e7a0:336' labels=frozenset({'Airport'}) properties={'country': 'United States', 'airport_id': '3577', 'city': 'Seattle', 'IATA': 'SEA', 'name': 'Seattle Tacoma International Airport', 'ICAO': 'KSEA'}>, <Node element_id='4:4daaf3ee-a640-4fe0-865d-8fe2f4f5e7a0:130' labels=frozenset({'Airport'}) properties={'country': 'Canada', 'airport_id': '156', 'city': 'Vancouver', 'IATA': 'YVR', 'name': 'Vancouver International Airport', 'ICAO': 'CYVR'}>, <Node element_id='4:4daaf3ee-a640-4fe0-865d-8fe2f4f5e7a0:856' labels=frozenset({'Airport'}) properties={'country': 'Canada', 'airport_id': '5545', 'city': 'Masset', 'IATA': 'ZMT', 'name': 'Masset Airport', 'ICAO': 'CZMT'}>]\n"
     ]
    },
    {
     "data": {
      "text/plain": [
       "['AC airline: SEA, Seattle  to  YVR, Vancouver',\n",
       " '8P airline: YVR, Vancouver  to  ZMT, Masset']"
      ]
     },
     "execution_count": 197,
     "metadata": {},
     "output_type": "execute_result"
    }
   ],
   "source": [
    "bfs(src, dst)"
   ]
  },
  {
   "cell_type": "code",
   "execution_count": null,
   "metadata": {},
   "outputs": [],
   "source": []
  }
 ],
 "metadata": {
  "kernelspec": {
   "display_name": "env",
   "language": "python",
   "name": "python3"
  },
  "language_info": {
   "codemirror_mode": {
    "name": "ipython",
    "version": 3
   },
   "file_extension": ".py",
   "mimetype": "text/x-python",
   "name": "python",
   "nbconvert_exporter": "python",
   "pygments_lexer": "ipython3",
   "version": "3.9.7"
  }
 },
 "nbformat": 4,
 "nbformat_minor": 2
}
